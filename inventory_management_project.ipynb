{
 "cells": [
  {
   "cell_type": "code",
   "execution_count": 3,
   "metadata": {},
   "outputs": [
    {
     "data": {
      "text/plain": [
       "''"
      ]
     },
     "execution_count": 3,
     "metadata": {},
     "output_type": "execute_result"
    }
   ],
   "source": [
    "ims2={1001:{\"productname\":\"Cake\",\"quantity\":\"69\",\"Discounted Price\":\"300\",\"RATING OUT OF 5\":\"4\",\"Original Price\":\"320\"},\n",
    " 1002:{\"productname\":\"Bread\",\"quantity\":\"56\",\"Discounted Price\":\"33\",\"RATING OUT OF 5\":\"5\",\"Original Price\":\"40\"},\n",
    " 1003:{\"productname\":\"milk\",\"quantity\":\"269\",\"Discounted Price\":\"47\",\"RATING OUT OF 5\":\"5\",\"Original Price\":\"50\"},\n",
    "    1004:{\"productname\":\"toothpaste\",\"quantity\":\"34\",\"Discounted Price\":\"49\",\"RATING OUT OF 5\":\"3\",\"Original Price\":\"60\"},\n",
    "    1005:{\"productname\":\"chips\",\"quantity\":\"90\",\"Discounted Price\":\"20\",\"RATING OUT OF 5\":\"2\",\"Original Price\":\"30\"},\n",
    "    1006:{\"productname\":\"chocolate\",\"quantity\":\"64\",\"Discounted Price\":\"45\",\"RATING OUT OF 5\":\"2\",\"Original Price\":\"50\"},\n",
    "    1007:{\"productname\":\"Sausage\",\"quantity\":\"73\",\"Discounted Price\":\"230\",\"RATING OUT OF 5\":\"5\",\"Original Price\":\"240\"},\n",
    "    1008:{\"productname\":\"Biscuit\",\"quantity\":\"234\",\"Discounted Price\":\"10\",\"RATING OUT OF 5\":\"5\",\"Original Price\":\"15\"},\n",
    "    1009:{\"productname\":\"Chocos\",\"quantity\":\"78\",\"Discounted Price\":\"120\",\"RATING OUT OF 5\":\"5\",\"Original Price\":\"130\"},\n",
    "    1010:{\"productname\":\"Sugar\",\"quantity\":\"89\",\"Discounted Price\":\"76\",\"RATING OUT OF 5\":\"3\",\"Original Price\":\"80\"},\n",
    "    1011:{\"productname\":\"soap\",\"quantity\":\"134\",\"Discounted Price\":\"23\",\"RATING OUT OF 5\":\"5\",\"Original Price\":\"30\"},\n",
    "    1012:{\"productname\":\"detergent\",\"quantity\":\"123\",\"Discounted Price\":\"90\",\"RATING OUT OF 5\":\"5\",\"Original Price\":\"100\"},\n",
    "    1013:{\"productname\":\"pizzabase\",\"quantity\":\"256\",\"Discounted Price\":\"41\",\"RATING OUT OF 5\":\"5\",\"Original Price\":\"50\"},\n",
    "    1014:{\"productname\":\"butter\",\"quantity\":\"82\",\"Discounted Price\":\"110\",\"RATING OUT OF 5\":\"2\",\"Original Price\":\"120\"},\n",
    "    1015:{\"productname\":\"cheese\",\"quantity\":\"434\",\"Discounted Price\":\"112\",\"RATING OUT OF 5\":\"4\",\"Original Price\":\"113\"},\n",
    "    1016:{\"productname\":\"chillyflakes\",\"quantity\":\"146\",\"Discounted Price\":\"50\",\"RATING OUT OF 5\":\"1\",\"Original Price\":\"60\"},\n",
    "    1017:{\"productname\":\"Sause\",\"quantity\":\"50\",\"Discounted Price\":\"86\",\"RATING OUT OF 5\":\"3\",\"Original Price\":\"90\"},\n",
    "    1018:{\"productname\":\"Namkeen\",\"quantity\":\"46\",\"Discounted Price\":\"49\",\"RATING OUT OF 5\":\"3\",\"Original Price\":\"60\"},\n",
    "    1019:{\"productname\":\"Jaggrey\",\"quantity\":\"67\",\"Discounted Price\":\"50\",\"RATING OUT OF 5\":\"4\",\"Original Price\":\"60\"},\n",
    "    1020:{\"productname\":\"Tortila\",\"quantity\":\"61\",\"Discounted Price\":\"40\",\"RATING OUT OF 5\":\"4\",\"Original Price\":\"50\"},\n",
    "    1021:{\"productname\":\"Cornflakes\",\"quantity\":\"62\",\"Discounted Price\":\"290\",\"RATING OUT OF 5\":\"4\",\"Original Price\":\"300\"},\n",
    "    1022:{\"productname\":\"Jelly\",\"quantity\":\"83\",\"Discounted Price\":\"50\",\"RATING OUT OF 5\":\"4\",\"Original Price\":\"55\"},\n",
    "    1023:{\"productname\":\"Conditioner\",\"quantity\":\"78\",\"Discounted Price\":\"250\",\"RATING OUT OF 5\":\"2\",\"Original Price\":\"260\"},\n",
    "    1024:{\"productname\":\"ToiletPaper\",\"quantity\":\"53\",\"Discounted Price\":\"122\",\"RATING OUT OF 5\":\"2\",\"Original Price\":\"125\"},\n",
    "    1025:{\"productname\":\"Scrub\",\"quantity\":\"24\",\"Discounted Price\":\"140\",\"RATING OUT OF 5\":\"2\",\"Original Price\":\"150\"},\n",
    "    1026:{\"productname\":\"Bodywash\",\"quantity\":\"64\",\"Discounted Price\":\"300\",\"RATING OUT OF 5\":\"3\",\"Original Price\":\"320\"},\n",
    "    1027:{\"productname\":\"Deodrant\",\"quantity\":\"14\",\"Discounted Price\":\"180\",\"RATING OUT OF 5\":\"1\",\"Original Price\":\"200\"},\n",
    "    1028:{\"productname\":\"Perfume\",\"quantity\":\"37\",\"Discounted Price\":\"200\",\"RATING OUT OF 5\":\"1\",\"Original Price\":\"220\"},\n",
    "    1029:{\"productname\":\"Cfl bulb\",\"quantity\":\"95\",\"Discounted Price\":\"400\",\"RATING OUT OF 5\":\"2\",\"Original Price\":\"450\"},\n",
    "    1030:{\"productname\":\"Pickles\",\"quantity\":\"58\",\"Discounted Price\":\"170\",\"RATING OUT OF 5\":\"5\",\"Original Price\":\"180\"}}\n",
    ",\n",
    "    "
   ]
  },
  {
   "cell_type": "code",
   "execution_count": 4,
   "metadata": {},
   "outputs": [],
   "source": [
    "import json"
   ]
  },
  {
   "cell_type": "code",
   "execution_count": 5,
   "metadata": {},
   "outputs": [],
   "source": [
    "json_ims= json.dumps(ims2)"
   ]
  },
  {
   "cell_type": "code",
   "execution_count": 6,
   "metadata": {},
   "outputs": [
    {
     "data": {
      "text/plain": [
       "'{\"1001\": {\"productname\": \"Cake\", \"quantity\": \"69\", \"Discounted Price\": \"300\", \"RATING OUT OF 5\": \"4\", \"Original Price\": \"320\"}, \"1002\": {\"productname\": \"Bread\", \"quantity\": \"56\", \"Discounted Price\": \"33\", \"RATING OUT OF 5\": \"5\", \"Original Price\": \"40\"}, \"1003\": {\"productname\": \"milk\", \"quantity\": \"269\", \"Discounted Price\": \"47\", \"RATING OUT OF 5\": \"5\", \"Original Price\": \"50\"}, \"1004\": {\"productname\": \"toothpaste\", \"quantity\": \"34\", \"Discounted Price\": \"49\", \"RATING OUT OF 5\": \"3\", \"Original Price\": \"60\"}, \"1005\": {\"productname\": \"chips\", \"quantity\": \"90\", \"Discounted Price\": \"20\", \"RATING OUT OF 5\": \"2\", \"Original Price\": \"30\"}, \"1006\": {\"productname\": \"chocolate\", \"quantity\": \"64\", \"Discounted Price\": \"45\", \"RATING OUT OF 5\": \"2\", \"Original Price\": \"50\"}, \"1007\": {\"productname\": \"Sausage\", \"quantity\": \"73\", \"Discounted Price\": \"230\", \"RATING OUT OF 5\": \"5\", \"Original Price\": \"240\"}, \"1008\": {\"productname\": \"Biscuit\", \"quantity\": \"234\", \"Discounted Price\": \"10\", \"RATING OUT OF 5\": \"5\", \"Original Price\": \"15\"}, \"1009\": {\"productname\": \"Chocos\", \"quantity\": \"78\", \"Discounted Price\": \"120\", \"RATING OUT OF 5\": \"5\", \"Original Price\": \"130\"}, \"1010\": {\"productname\": \"Sugar\", \"quantity\": \"89\", \"Discounted Price\": \"76\", \"RATING OUT OF 5\": \"3\", \"Original Price\": \"80\"}, \"1011\": {\"productname\": \"soap\", \"quantity\": \"134\", \"Discounted Price\": \"23\", \"RATING OUT OF 5\": \"5\", \"Original Price\": \"30\"}, \"1012\": {\"productname\": \"detergent\", \"quantity\": \"123\", \"Discounted Price\": \"90\", \"RATING OUT OF 5\": \"5\", \"Original Price\": \"100\"}, \"1013\": {\"productname\": \"pizzabase\", \"quantity\": \"256\", \"Discounted Price\": \"41\", \"RATING OUT OF 5\": \"5\", \"Original Price\": \"50\"}, \"1014\": {\"productname\": \"butter\", \"quantity\": \"82\", \"Discounted Price\": \"110\", \"RATING OUT OF 5\": \"2\", \"Original Price\": \"120\"}, \"1015\": {\"productname\": \"cheese\", \"quantity\": \"434\", \"Discounted Price\": \"112\", \"RATING OUT OF 5\": \"4\", \"Original Price\": \"113\"}, \"1016\": {\"productname\": \"chillyflakes\", \"quantity\": \"146\", \"Discounted Price\": \"50\", \"RATING OUT OF 5\": \"1\", \"Original Price\": \"60\"}, \"1017\": {\"productname\": \"Sause\", \"quantity\": \"50\", \"Discounted Price\": \"86\", \"RATING OUT OF 5\": \"3\", \"Original Price\": \"90\"}, \"1018\": {\"productname\": \"Namkeen\", \"quantity\": \"46\", \"Discounted Price\": \"49\", \"RATING OUT OF 5\": \"3\", \"Original Price\": \"60\"}, \"1019\": {\"productname\": \"Jaggrey\", \"quantity\": \"67\", \"Discounted Price\": \"50\", \"RATING OUT OF 5\": \"4\", \"Original Price\": \"60\"}, \"1020\": {\"productname\": \"Tortila\", \"quantity\": \"61\", \"Discounted Price\": \"40\", \"RATING OUT OF 5\": \"4\", \"Original Price\": \"50\"}, \"1021\": {\"productname\": \"Cornflakes\", \"quantity\": \"62\", \"Discounted Price\": \"290\", \"RATING OUT OF 5\": \"4\", \"Original Price\": \"300\"}, \"1022\": {\"productname\": \"Jelly\", \"quantity\": \"83\", \"Discounted Price\": \"50\", \"RATING OUT OF 5\": \"4\", \"Original Price\": \"55\"}, \"1023\": {\"productname\": \"Conditioner\", \"quantity\": \"78\", \"Discounted Price\": \"250\", \"RATING OUT OF 5\": \"2\", \"Original Price\": \"260\"}, \"1024\": {\"productname\": \"ToiletPaper\", \"quantity\": \"53\", \"Discounted Price\": \"122\", \"RATING OUT OF 5\": \"2\", \"Original Price\": \"125\"}, \"1025\": {\"productname\": \"Scrub\", \"quantity\": \"24\", \"Discounted Price\": \"140\", \"RATING OUT OF 5\": \"2\", \"Original Price\": \"150\"}, \"1026\": {\"productname\": \"Bodywash\", \"quantity\": \"64\", \"Discounted Price\": \"300\", \"RATING OUT OF 5\": \"3\", \"Original Price\": \"320\"}, \"1027\": {\"productname\": \"Deodrant\", \"quantity\": \"14\", \"Discounted Price\": \"180\", \"RATING OUT OF 5\": \"1\", \"Original Price\": \"200\"}, \"1028\": {\"productname\": \"Perfume\", \"quantity\": \"37\", \"Discounted Price\": \"200\", \"RATING OUT OF 5\": \"1\", \"Original Price\": \"220\"}, \"1029\": {\"productname\": \"Cfl bulb\", \"quantity\": \"95\", \"Discounted Price\": \"400\", \"RATING OUT OF 5\": \"2\", \"Original Price\": \"450\"}, \"1030\": {\"productname\": \"Pickles\", \"quantity\": \"58\", \"Discounted Price\": \"170\", \"RATING OUT OF 5\": \"5\", \"Original Price\": \"180\"}}'"
      ]
     },
     "execution_count": 6,
     "metadata": {},
     "output_type": "execute_result"
    }
   ],
   "source": [
    "json_ims"
   ]
  },
  {
   "cell_type": "code",
   "execution_count": 7,
   "metadata": {},
   "outputs": [],
   "source": [
    "with open(\"ims2.json\", \"w\") as outfile:\n",
    "    json.dump(ims2, outfile)\n"
   ]
  },
  {
   "cell_type": "code",
   "execution_count": 8,
   "metadata": {},
   "outputs": [
    {
     "data": {
      "text/plain": [
       "'{\"1001\": {\"productname\": \"Cake\", \"quantity\": \"69\", \"Discounted Price\": \"300\", \"RATING OUT OF 5\": \"4\", \"Original Price\": \"320\"}, \"1002\": {\"productname\": \"Bread\", \"quantity\": \"56\", \"Discounted Price\": \"33\", \"RATING OUT OF 5\": \"5\", \"Original Price\": \"40\"}, \"1003\": {\"productname\": \"milk\", \"quantity\": \"269\", \"Discounted Price\": \"47\", \"RATING OUT OF 5\": \"5\", \"Original Price\": \"50\"}, \"1004\": {\"productname\": \"toothpaste\", \"quantity\": \"34\", \"Discounted Price\": \"49\", \"RATING OUT OF 5\": \"3\", \"Original Price\": \"60\"}, \"1005\": {\"productname\": \"chips\", \"quantity\": \"90\", \"Discounted Price\": \"20\", \"RATING OUT OF 5\": \"2\", \"Original Price\": \"30\"}, \"1006\": {\"productname\": \"chocolate\", \"quantity\": \"64\", \"Discounted Price\": \"45\", \"RATING OUT OF 5\": \"2\", \"Original Price\": \"50\"}, \"1007\": {\"productname\": \"Sausage\", \"quantity\": \"73\", \"Discounted Price\": \"230\", \"RATING OUT OF 5\": \"5\", \"Original Price\": \"240\"}, \"1008\": {\"productname\": \"Biscuit\", \"quantity\": \"234\", \"Discounted Price\": \"10\", \"RATING OUT OF 5\": \"5\", \"Original Price\": \"15\"}, \"1009\": {\"productname\": \"Chocos\", \"quantity\": \"78\", \"Discounted Price\": \"120\", \"RATING OUT OF 5\": \"5\", \"Original Price\": \"130\"}, \"1010\": {\"productname\": \"Sugar\", \"quantity\": \"89\", \"Discounted Price\": \"76\", \"RATING OUT OF 5\": \"3\", \"Original Price\": \"80\"}, \"1011\": {\"productname\": \"soap\", \"quantity\": \"134\", \"Discounted Price\": \"23\", \"RATING OUT OF 5\": \"5\", \"Original Price\": \"30\"}, \"1012\": {\"productname\": \"detergent\", \"quantity\": \"123\", \"Discounted Price\": \"90\", \"RATING OUT OF 5\": \"5\", \"Original Price\": \"100\"}, \"1013\": {\"productname\": \"pizzabase\", \"quantity\": \"256\", \"Discounted Price\": \"41\", \"RATING OUT OF 5\": \"5\", \"Original Price\": \"50\"}, \"1014\": {\"productname\": \"butter\", \"quantity\": \"82\", \"Discounted Price\": \"110\", \"RATING OUT OF 5\": \"2\", \"Original Price\": \"120\"}, \"1015\": {\"productname\": \"cheese\", \"quantity\": \"434\", \"Discounted Price\": \"112\", \"RATING OUT OF 5\": \"4\", \"Original Price\": \"113\"}, \"1016\": {\"productname\": \"chillyflakes\", \"quantity\": \"146\", \"Discounted Price\": \"50\", \"RATING OUT OF 5\": \"1\", \"Original Price\": \"60\"}, \"1017\": {\"productname\": \"Sause\", \"quantity\": \"50\", \"Discounted Price\": \"86\", \"RATING OUT OF 5\": \"3\", \"Original Price\": \"90\"}, \"1018\": {\"productname\": \"Namkeen\", \"quantity\": \"46\", \"Discounted Price\": \"49\", \"RATING OUT OF 5\": \"3\", \"Original Price\": \"60\"}, \"1019\": {\"productname\": \"Jaggrey\", \"quantity\": \"67\", \"Discounted Price\": \"50\", \"RATING OUT OF 5\": \"4\", \"Original Price\": \"60\"}, \"1020\": {\"productname\": \"Tortila\", \"quantity\": \"61\", \"Discounted Price\": \"40\", \"RATING OUT OF 5\": \"4\", \"Original Price\": \"50\"}, \"1021\": {\"productname\": \"Cornflakes\", \"quantity\": \"62\", \"Discounted Price\": \"290\", \"RATING OUT OF 5\": \"4\", \"Original Price\": \"300\"}, \"1022\": {\"productname\": \"Jelly\", \"quantity\": \"83\", \"Discounted Price\": \"50\", \"RATING OUT OF 5\": \"4\", \"Original Price\": \"55\"}, \"1023\": {\"productname\": \"Conditioner\", \"quantity\": \"78\", \"Discounted Price\": \"250\", \"RATING OUT OF 5\": \"2\", \"Original Price\": \"260\"}, \"1024\": {\"productname\": \"ToiletPaper\", \"quantity\": \"53\", \"Discounted Price\": \"122\", \"RATING OUT OF 5\": \"2\", \"Original Price\": \"125\"}, \"1025\": {\"productname\": \"Scrub\", \"quantity\": \"24\", \"Discounted Price\": \"140\", \"RATING OUT OF 5\": \"2\", \"Original Price\": \"150\"}, \"1026\": {\"productname\": \"Bodywash\", \"quantity\": \"64\", \"Discounted Price\": \"300\", \"RATING OUT OF 5\": \"3\", \"Original Price\": \"320\"}, \"1027\": {\"productname\": \"Deodrant\", \"quantity\": \"14\", \"Discounted Price\": \"180\", \"RATING OUT OF 5\": \"1\", \"Original Price\": \"200\"}, \"1028\": {\"productname\": \"Perfume\", \"quantity\": \"37\", \"Discounted Price\": \"200\", \"RATING OUT OF 5\": \"1\", \"Original Price\": \"220\"}, \"1029\": {\"productname\": \"Cfl bulb\", \"quantity\": \"95\", \"Discounted Price\": \"400\", \"RATING OUT OF 5\": \"2\", \"Original Price\": \"450\"}, \"1030\": {\"productname\": \"Pickles\", \"quantity\": \"58\", \"Discounted Price\": \"170\", \"RATING OUT OF 5\": \"5\", \"Original Price\": \"180\"}}'"
      ]
     },
     "execution_count": 8,
     "metadata": {},
     "output_type": "execute_result"
    }
   ],
   "source": [
    "fd=open('ims2.json','r')\n",
    "txt=fd.read()\n",
    "txt\n",
    "\n"
   ]
  },
  {
   "cell_type": "code",
   "execution_count": 9,
   "metadata": {},
   "outputs": [],
   "source": [
    " a=txt.split('},')"
   ]
  },
  {
   "cell_type": "code",
   "execution_count": 10,
   "metadata": {},
   "outputs": [
    {
     "data": {
      "text/plain": [
       "['{\"1001\": {\"productname\": \"Cake\", \"quantity\": \"69\", \"Discounted Price\": \"300\", \"RATING OUT OF 5\": \"4\", \"Original Price\": \"320\"',\n",
       " ' \"1002\": {\"productname\": \"Bread\", \"quantity\": \"56\", \"Discounted Price\": \"33\", \"RATING OUT OF 5\": \"5\", \"Original Price\": \"40\"',\n",
       " ' \"1003\": {\"productname\": \"milk\", \"quantity\": \"269\", \"Discounted Price\": \"47\", \"RATING OUT OF 5\": \"5\", \"Original Price\": \"50\"',\n",
       " ' \"1004\": {\"productname\": \"toothpaste\", \"quantity\": \"34\", \"Discounted Price\": \"49\", \"RATING OUT OF 5\": \"3\", \"Original Price\": \"60\"',\n",
       " ' \"1005\": {\"productname\": \"chips\", \"quantity\": \"90\", \"Discounted Price\": \"20\", \"RATING OUT OF 5\": \"2\", \"Original Price\": \"30\"',\n",
       " ' \"1006\": {\"productname\": \"chocolate\", \"quantity\": \"64\", \"Discounted Price\": \"45\", \"RATING OUT OF 5\": \"2\", \"Original Price\": \"50\"',\n",
       " ' \"1007\": {\"productname\": \"Sausage\", \"quantity\": \"73\", \"Discounted Price\": \"230\", \"RATING OUT OF 5\": \"5\", \"Original Price\": \"240\"',\n",
       " ' \"1008\": {\"productname\": \"Biscuit\", \"quantity\": \"234\", \"Discounted Price\": \"10\", \"RATING OUT OF 5\": \"5\", \"Original Price\": \"15\"',\n",
       " ' \"1009\": {\"productname\": \"Chocos\", \"quantity\": \"78\", \"Discounted Price\": \"120\", \"RATING OUT OF 5\": \"5\", \"Original Price\": \"130\"',\n",
       " ' \"1010\": {\"productname\": \"Sugar\", \"quantity\": \"89\", \"Discounted Price\": \"76\", \"RATING OUT OF 5\": \"3\", \"Original Price\": \"80\"',\n",
       " ' \"1011\": {\"productname\": \"soap\", \"quantity\": \"134\", \"Discounted Price\": \"23\", \"RATING OUT OF 5\": \"5\", \"Original Price\": \"30\"',\n",
       " ' \"1012\": {\"productname\": \"detergent\", \"quantity\": \"123\", \"Discounted Price\": \"90\", \"RATING OUT OF 5\": \"5\", \"Original Price\": \"100\"',\n",
       " ' \"1013\": {\"productname\": \"pizzabase\", \"quantity\": \"256\", \"Discounted Price\": \"41\", \"RATING OUT OF 5\": \"5\", \"Original Price\": \"50\"',\n",
       " ' \"1014\": {\"productname\": \"butter\", \"quantity\": \"82\", \"Discounted Price\": \"110\", \"RATING OUT OF 5\": \"2\", \"Original Price\": \"120\"',\n",
       " ' \"1015\": {\"productname\": \"cheese\", \"quantity\": \"434\", \"Discounted Price\": \"112\", \"RATING OUT OF 5\": \"4\", \"Original Price\": \"113\"',\n",
       " ' \"1016\": {\"productname\": \"chillyflakes\", \"quantity\": \"146\", \"Discounted Price\": \"50\", \"RATING OUT OF 5\": \"1\", \"Original Price\": \"60\"',\n",
       " ' \"1017\": {\"productname\": \"Sause\", \"quantity\": \"50\", \"Discounted Price\": \"86\", \"RATING OUT OF 5\": \"3\", \"Original Price\": \"90\"',\n",
       " ' \"1018\": {\"productname\": \"Namkeen\", \"quantity\": \"46\", \"Discounted Price\": \"49\", \"RATING OUT OF 5\": \"3\", \"Original Price\": \"60\"',\n",
       " ' \"1019\": {\"productname\": \"Jaggrey\", \"quantity\": \"67\", \"Discounted Price\": \"50\", \"RATING OUT OF 5\": \"4\", \"Original Price\": \"60\"',\n",
       " ' \"1020\": {\"productname\": \"Tortila\", \"quantity\": \"61\", \"Discounted Price\": \"40\", \"RATING OUT OF 5\": \"4\", \"Original Price\": \"50\"',\n",
       " ' \"1021\": {\"productname\": \"Cornflakes\", \"quantity\": \"62\", \"Discounted Price\": \"290\", \"RATING OUT OF 5\": \"4\", \"Original Price\": \"300\"',\n",
       " ' \"1022\": {\"productname\": \"Jelly\", \"quantity\": \"83\", \"Discounted Price\": \"50\", \"RATING OUT OF 5\": \"4\", \"Original Price\": \"55\"',\n",
       " ' \"1023\": {\"productname\": \"Conditioner\", \"quantity\": \"78\", \"Discounted Price\": \"250\", \"RATING OUT OF 5\": \"2\", \"Original Price\": \"260\"',\n",
       " ' \"1024\": {\"productname\": \"ToiletPaper\", \"quantity\": \"53\", \"Discounted Price\": \"122\", \"RATING OUT OF 5\": \"2\", \"Original Price\": \"125\"',\n",
       " ' \"1025\": {\"productname\": \"Scrub\", \"quantity\": \"24\", \"Discounted Price\": \"140\", \"RATING OUT OF 5\": \"2\", \"Original Price\": \"150\"',\n",
       " ' \"1026\": {\"productname\": \"Bodywash\", \"quantity\": \"64\", \"Discounted Price\": \"300\", \"RATING OUT OF 5\": \"3\", \"Original Price\": \"320\"',\n",
       " ' \"1027\": {\"productname\": \"Deodrant\", \"quantity\": \"14\", \"Discounted Price\": \"180\", \"RATING OUT OF 5\": \"1\", \"Original Price\": \"200\"',\n",
       " ' \"1028\": {\"productname\": \"Perfume\", \"quantity\": \"37\", \"Discounted Price\": \"200\", \"RATING OUT OF 5\": \"1\", \"Original Price\": \"220\"',\n",
       " ' \"1029\": {\"productname\": \"Cfl bulb\", \"quantity\": \"95\", \"Discounted Price\": \"400\", \"RATING OUT OF 5\": \"2\", \"Original Price\": \"450\"',\n",
       " ' \"1030\": {\"productname\": \"Pickles\", \"quantity\": \"58\", \"Discounted Price\": \"170\", \"RATING OUT OF 5\": \"5\", \"Original Price\": \"180\"}}']"
      ]
     },
     "execution_count": 10,
     "metadata": {},
     "output_type": "execute_result"
    }
   ],
   "source": [
    "a\n"
   ]
  },
  {
   "cell_type": "code",
   "execution_count": 11,
   "metadata": {},
   "outputs": [],
   "source": [
    "ims=json.loads(txt)\n"
   ]
  },
  {
   "cell_type": "code",
   "execution_count": 12,
   "metadata": {},
   "outputs": [
    {
     "data": {
      "text/plain": [
       "{'1001': {'productname': 'Cake',\n",
       "  'quantity': '69',\n",
       "  'Discounted Price': '300',\n",
       "  'RATING OUT OF 5': '4',\n",
       "  'Original Price': '320'},\n",
       " '1002': {'productname': 'Bread',\n",
       "  'quantity': '56',\n",
       "  'Discounted Price': '33',\n",
       "  'RATING OUT OF 5': '5',\n",
       "  'Original Price': '40'},\n",
       " '1003': {'productname': 'milk',\n",
       "  'quantity': '269',\n",
       "  'Discounted Price': '47',\n",
       "  'RATING OUT OF 5': '5',\n",
       "  'Original Price': '50'},\n",
       " '1004': {'productname': 'toothpaste',\n",
       "  'quantity': '34',\n",
       "  'Discounted Price': '49',\n",
       "  'RATING OUT OF 5': '3',\n",
       "  'Original Price': '60'},\n",
       " '1005': {'productname': 'chips',\n",
       "  'quantity': '90',\n",
       "  'Discounted Price': '20',\n",
       "  'RATING OUT OF 5': '2',\n",
       "  'Original Price': '30'},\n",
       " '1006': {'productname': 'chocolate',\n",
       "  'quantity': '64',\n",
       "  'Discounted Price': '45',\n",
       "  'RATING OUT OF 5': '2',\n",
       "  'Original Price': '50'},\n",
       " '1007': {'productname': 'Sausage',\n",
       "  'quantity': '73',\n",
       "  'Discounted Price': '230',\n",
       "  'RATING OUT OF 5': '5',\n",
       "  'Original Price': '240'},\n",
       " '1008': {'productname': 'Biscuit',\n",
       "  'quantity': '234',\n",
       "  'Discounted Price': '10',\n",
       "  'RATING OUT OF 5': '5',\n",
       "  'Original Price': '15'},\n",
       " '1009': {'productname': 'Chocos',\n",
       "  'quantity': '78',\n",
       "  'Discounted Price': '120',\n",
       "  'RATING OUT OF 5': '5',\n",
       "  'Original Price': '130'},\n",
       " '1010': {'productname': 'Sugar',\n",
       "  'quantity': '89',\n",
       "  'Discounted Price': '76',\n",
       "  'RATING OUT OF 5': '3',\n",
       "  'Original Price': '80'},\n",
       " '1011': {'productname': 'soap',\n",
       "  'quantity': '134',\n",
       "  'Discounted Price': '23',\n",
       "  'RATING OUT OF 5': '5',\n",
       "  'Original Price': '30'},\n",
       " '1012': {'productname': 'detergent',\n",
       "  'quantity': '123',\n",
       "  'Discounted Price': '90',\n",
       "  'RATING OUT OF 5': '5',\n",
       "  'Original Price': '100'},\n",
       " '1013': {'productname': 'pizzabase',\n",
       "  'quantity': '256',\n",
       "  'Discounted Price': '41',\n",
       "  'RATING OUT OF 5': '5',\n",
       "  'Original Price': '50'},\n",
       " '1014': {'productname': 'butter',\n",
       "  'quantity': '82',\n",
       "  'Discounted Price': '110',\n",
       "  'RATING OUT OF 5': '2',\n",
       "  'Original Price': '120'},\n",
       " '1015': {'productname': 'cheese',\n",
       "  'quantity': '434',\n",
       "  'Discounted Price': '112',\n",
       "  'RATING OUT OF 5': '4',\n",
       "  'Original Price': '113'},\n",
       " '1016': {'productname': 'chillyflakes',\n",
       "  'quantity': '146',\n",
       "  'Discounted Price': '50',\n",
       "  'RATING OUT OF 5': '1',\n",
       "  'Original Price': '60'},\n",
       " '1017': {'productname': 'Sause',\n",
       "  'quantity': '50',\n",
       "  'Discounted Price': '86',\n",
       "  'RATING OUT OF 5': '3',\n",
       "  'Original Price': '90'},\n",
       " '1018': {'productname': 'Namkeen',\n",
       "  'quantity': '46',\n",
       "  'Discounted Price': '49',\n",
       "  'RATING OUT OF 5': '3',\n",
       "  'Original Price': '60'},\n",
       " '1019': {'productname': 'Jaggrey',\n",
       "  'quantity': '67',\n",
       "  'Discounted Price': '50',\n",
       "  'RATING OUT OF 5': '4',\n",
       "  'Original Price': '60'},\n",
       " '1020': {'productname': 'Tortila',\n",
       "  'quantity': '61',\n",
       "  'Discounted Price': '40',\n",
       "  'RATING OUT OF 5': '4',\n",
       "  'Original Price': '50'},\n",
       " '1021': {'productname': 'Cornflakes',\n",
       "  'quantity': '62',\n",
       "  'Discounted Price': '290',\n",
       "  'RATING OUT OF 5': '4',\n",
       "  'Original Price': '300'},\n",
       " '1022': {'productname': 'Jelly',\n",
       "  'quantity': '83',\n",
       "  'Discounted Price': '50',\n",
       "  'RATING OUT OF 5': '4',\n",
       "  'Original Price': '55'},\n",
       " '1023': {'productname': 'Conditioner',\n",
       "  'quantity': '78',\n",
       "  'Discounted Price': '250',\n",
       "  'RATING OUT OF 5': '2',\n",
       "  'Original Price': '260'},\n",
       " '1024': {'productname': 'ToiletPaper',\n",
       "  'quantity': '53',\n",
       "  'Discounted Price': '122',\n",
       "  'RATING OUT OF 5': '2',\n",
       "  'Original Price': '125'},\n",
       " '1025': {'productname': 'Scrub',\n",
       "  'quantity': '24',\n",
       "  'Discounted Price': '140',\n",
       "  'RATING OUT OF 5': '2',\n",
       "  'Original Price': '150'},\n",
       " '1026': {'productname': 'Bodywash',\n",
       "  'quantity': '64',\n",
       "  'Discounted Price': '300',\n",
       "  'RATING OUT OF 5': '3',\n",
       "  'Original Price': '320'},\n",
       " '1027': {'productname': 'Deodrant',\n",
       "  'quantity': '14',\n",
       "  'Discounted Price': '180',\n",
       "  'RATING OUT OF 5': '1',\n",
       "  'Original Price': '200'},\n",
       " '1028': {'productname': 'Perfume',\n",
       "  'quantity': '37',\n",
       "  'Discounted Price': '200',\n",
       "  'RATING OUT OF 5': '1',\n",
       "  'Original Price': '220'},\n",
       " '1029': {'productname': 'Cfl bulb',\n",
       "  'quantity': '95',\n",
       "  'Discounted Price': '400',\n",
       "  'RATING OUT OF 5': '2',\n",
       "  'Original Price': '450'},\n",
       " '1030': {'productname': 'Pickles',\n",
       "  'quantity': '58',\n",
       "  'Discounted Price': '170',\n",
       "  'RATING OUT OF 5': '5',\n",
       "  'Original Price': '180'}}"
      ]
     },
     "execution_count": 12,
     "metadata": {},
     "output_type": "execute_result"
    }
   ],
   "source": [
    "ims"
   ]
  },
  {
   "cell_type": "code",
   "execution_count": 13,
   "metadata": {
    "scrolled": true
   },
   "outputs": [
    {
     "name": "stdout",
     "output_type": "stream",
     "text": [
      "enter your name: shubham \n",
      "enter the product id: 1023\n",
      "enter the quantity: 4\n",
      "***********************\n",
      "name of the customer shubham \n",
      "Prod Id:  1023\n",
      "Name: Conditioner\n",
      "Original Price: 260\n",
      "Discounted Price: 250\n",
      "-------------------------------\n",
      "Amount 1000\n",
      "-------------------------------\n"
     ]
    }
   ],
   "source": [
    "ui_name=str(input(\"enter your name: \"))          \n",
    "ui_prod=str(input(\"enter the product id: \"))\n",
    "            \n",
    "ui_quan=int(input(\"enter the quantity: \"))\n",
    "\n",
    "for i in ims:\n",
    "    \n",
    "    if(str(ui_prod)== i):\n",
    "        print(\"***********************\")\n",
    "        print(\"name of the customer\",ui_name)\n",
    "        print(\"Prod Id: \",i)\n",
    "        print(\"Name:\" ,ims[i]['productname'])\n",
    "        print(\"Original Price:\",ims[i]['Original Price'])\n",
    "        print(\"Discounted Price:\",ims[i]['Discounted Price'])\n",
    "        print(\"-------------------------------\")\n",
    "        print(\"Amount\",int(ims[i]['Discounted Price']) * ui_quan)\n",
    "        print(\"-------------------------------\")\n",
    "        \n",
    "   \n",
    "\n",
    "        "
   ]
  },
  {
   "cell_type": "code",
   "execution_count": 14,
   "metadata": {},
   "outputs": [
    {
     "data": {
      "text/plain": [
       "'1023'"
      ]
     },
     "execution_count": 14,
     "metadata": {},
     "output_type": "execute_result"
    }
   ],
   "source": [
    "ui_prod"
   ]
  },
  {
   "cell_type": "code",
   "execution_count": 15,
   "metadata": {},
   "outputs": [
    {
     "ename": "NameError",
     "evalue": "name 'prod' is not defined",
     "output_type": "error",
     "traceback": [
      "\u001b[0;31m---------------------------------------------------------------------------\u001b[0m",
      "\u001b[0;31mNameError\u001b[0m                                 Traceback (most recent call last)",
      "\u001b[0;32m<ipython-input-15-863441257cea>\u001b[0m in \u001b[0;36m<module>\u001b[0;34m\u001b[0m\n\u001b[0;32m----> 1\u001b[0;31m \u001b[0mprod\u001b[0m\u001b[0;34m[\u001b[0m\u001b[0;36m0\u001b[0m\u001b[0;34m]\u001b[0m\u001b[0;34m\u001b[0m\u001b[0;34m\u001b[0m\u001b[0m\n\u001b[0m",
      "\u001b[0;31mNameError\u001b[0m: name 'prod' is not defined"
     ]
    }
   ],
   "source": [
    "prod[0]"
   ]
  },
  {
   "cell_type": "code",
   "execution_count": 16,
   "metadata": {},
   "outputs": [
    {
     "data": {
      "text/plain": [
       "{'1001': {'productname': 'Cake',\n",
       "  'quantity': '69',\n",
       "  'Discounted Price': '300',\n",
       "  'RATING OUT OF 5': '4',\n",
       "  'Original Price': '320'},\n",
       " '1002': {'productname': 'Bread',\n",
       "  'quantity': '56',\n",
       "  'Discounted Price': '33',\n",
       "  'RATING OUT OF 5': '5',\n",
       "  'Original Price': '40'},\n",
       " '1003': {'productname': 'milk',\n",
       "  'quantity': '269',\n",
       "  'Discounted Price': '47',\n",
       "  'RATING OUT OF 5': '5',\n",
       "  'Original Price': '50'},\n",
       " '1004': {'productname': 'toothpaste',\n",
       "  'quantity': '34',\n",
       "  'Discounted Price': '49',\n",
       "  'RATING OUT OF 5': '3',\n",
       "  'Original Price': '60'},\n",
       " '1005': {'productname': 'chips',\n",
       "  'quantity': '90',\n",
       "  'Discounted Price': '20',\n",
       "  'RATING OUT OF 5': '2',\n",
       "  'Original Price': '30'},\n",
       " '1006': {'productname': 'chocolate',\n",
       "  'quantity': '64',\n",
       "  'Discounted Price': '45',\n",
       "  'RATING OUT OF 5': '2',\n",
       "  'Original Price': '50'},\n",
       " '1007': {'productname': 'Sausage',\n",
       "  'quantity': '73',\n",
       "  'Discounted Price': '230',\n",
       "  'RATING OUT OF 5': '5',\n",
       "  'Original Price': '240'},\n",
       " '1008': {'productname': 'Biscuit',\n",
       "  'quantity': '234',\n",
       "  'Discounted Price': '10',\n",
       "  'RATING OUT OF 5': '5',\n",
       "  'Original Price': '15'},\n",
       " '1009': {'productname': 'Chocos',\n",
       "  'quantity': '78',\n",
       "  'Discounted Price': '120',\n",
       "  'RATING OUT OF 5': '5',\n",
       "  'Original Price': '130'},\n",
       " '1010': {'productname': 'Sugar',\n",
       "  'quantity': '89',\n",
       "  'Discounted Price': '76',\n",
       "  'RATING OUT OF 5': '3',\n",
       "  'Original Price': '80'},\n",
       " '1011': {'productname': 'soap',\n",
       "  'quantity': '134',\n",
       "  'Discounted Price': '23',\n",
       "  'RATING OUT OF 5': '5',\n",
       "  'Original Price': '30'},\n",
       " '1012': {'productname': 'detergent',\n",
       "  'quantity': '123',\n",
       "  'Discounted Price': '90',\n",
       "  'RATING OUT OF 5': '5',\n",
       "  'Original Price': '100'},\n",
       " '1013': {'productname': 'pizzabase',\n",
       "  'quantity': '256',\n",
       "  'Discounted Price': '41',\n",
       "  'RATING OUT OF 5': '5',\n",
       "  'Original Price': '50'},\n",
       " '1014': {'productname': 'butter',\n",
       "  'quantity': '82',\n",
       "  'Discounted Price': '110',\n",
       "  'RATING OUT OF 5': '2',\n",
       "  'Original Price': '120'},\n",
       " '1015': {'productname': 'cheese',\n",
       "  'quantity': '434',\n",
       "  'Discounted Price': '112',\n",
       "  'RATING OUT OF 5': '4',\n",
       "  'Original Price': '113'},\n",
       " '1016': {'productname': 'chillyflakes',\n",
       "  'quantity': '146',\n",
       "  'Discounted Price': '50',\n",
       "  'RATING OUT OF 5': '1',\n",
       "  'Original Price': '60'},\n",
       " '1017': {'productname': 'Sause',\n",
       "  'quantity': '50',\n",
       "  'Discounted Price': '86',\n",
       "  'RATING OUT OF 5': '3',\n",
       "  'Original Price': '90'},\n",
       " '1018': {'productname': 'Namkeen',\n",
       "  'quantity': '46',\n",
       "  'Discounted Price': '49',\n",
       "  'RATING OUT OF 5': '3',\n",
       "  'Original Price': '60'},\n",
       " '1019': {'productname': 'Jaggrey',\n",
       "  'quantity': '67',\n",
       "  'Discounted Price': '50',\n",
       "  'RATING OUT OF 5': '4',\n",
       "  'Original Price': '60'},\n",
       " '1020': {'productname': 'Tortila',\n",
       "  'quantity': '61',\n",
       "  'Discounted Price': '40',\n",
       "  'RATING OUT OF 5': '4',\n",
       "  'Original Price': '50'},\n",
       " '1021': {'productname': 'Cornflakes',\n",
       "  'quantity': '62',\n",
       "  'Discounted Price': '290',\n",
       "  'RATING OUT OF 5': '4',\n",
       "  'Original Price': '300'},\n",
       " '1022': {'productname': 'Jelly',\n",
       "  'quantity': '83',\n",
       "  'Discounted Price': '50',\n",
       "  'RATING OUT OF 5': '4',\n",
       "  'Original Price': '55'},\n",
       " '1023': {'productname': 'Conditioner',\n",
       "  'quantity': '78',\n",
       "  'Discounted Price': '250',\n",
       "  'RATING OUT OF 5': '2',\n",
       "  'Original Price': '260'},\n",
       " '1024': {'productname': 'ToiletPaper',\n",
       "  'quantity': '53',\n",
       "  'Discounted Price': '122',\n",
       "  'RATING OUT OF 5': '2',\n",
       "  'Original Price': '125'},\n",
       " '1025': {'productname': 'Scrub',\n",
       "  'quantity': '24',\n",
       "  'Discounted Price': '140',\n",
       "  'RATING OUT OF 5': '2',\n",
       "  'Original Price': '150'},\n",
       " '1026': {'productname': 'Bodywash',\n",
       "  'quantity': '64',\n",
       "  'Discounted Price': '300',\n",
       "  'RATING OUT OF 5': '3',\n",
       "  'Original Price': '320'},\n",
       " '1027': {'productname': 'Deodrant',\n",
       "  'quantity': '14',\n",
       "  'Discounted Price': '180',\n",
       "  'RATING OUT OF 5': '1',\n",
       "  'Original Price': '200'},\n",
       " '1028': {'productname': 'Perfume',\n",
       "  'quantity': '37',\n",
       "  'Discounted Price': '200',\n",
       "  'RATING OUT OF 5': '1',\n",
       "  'Original Price': '220'},\n",
       " '1029': {'productname': 'Cfl bulb',\n",
       "  'quantity': '95',\n",
       "  'Discounted Price': '400',\n",
       "  'RATING OUT OF 5': '2',\n",
       "  'Original Price': '450'},\n",
       " '1030': {'productname': 'Pickles',\n",
       "  'quantity': '58',\n",
       "  'Discounted Price': '170',\n",
       "  'RATING OUT OF 5': '5',\n",
       "  'Original Price': '180'}}"
      ]
     },
     "execution_count": 16,
     "metadata": {},
     "output_type": "execute_result"
    }
   ],
   "source": [
    "ims"
   ]
  },
  {
   "cell_type": "code",
   "execution_count": 17,
   "metadata": {},
   "outputs": [],
   "source": [
    "new_ims= {}\n",
    "\n",
    "\n",
    "for i in ims:\n",
    "    if(str(ui_prod)== i):\n",
    "        ims[i]['quantity']=str(int(ims[i]['quantity'])-ui_quan)\n",
    "    new_ims[i]={ims[i]['productname']+','+   ims[i]['quantity']+','+ ims[i]['Discounted Price']+','+ ims[i]['RATING OUT OF 5'] + ','+ ims[i]['Original Price']}\n",
    "ims=new_ims"
   ]
  },
  {
   "cell_type": "code",
   "execution_count": 18,
   "metadata": {},
   "outputs": [
    {
     "data": {
      "text/plain": [
       "{'1001': {'Cake,69,300,4,320'},\n",
       " '1002': {'Bread,56,33,5,40'},\n",
       " '1003': {'milk,269,47,5,50'},\n",
       " '1004': {'toothpaste,34,49,3,60'},\n",
       " '1005': {'chips,90,20,2,30'},\n",
       " '1006': {'chocolate,64,45,2,50'},\n",
       " '1007': {'Sausage,73,230,5,240'},\n",
       " '1008': {'Biscuit,234,10,5,15'},\n",
       " '1009': {'Chocos,78,120,5,130'},\n",
       " '1010': {'Sugar,89,76,3,80'},\n",
       " '1011': {'soap,134,23,5,30'},\n",
       " '1012': {'detergent,123,90,5,100'},\n",
       " '1013': {'pizzabase,256,41,5,50'},\n",
       " '1014': {'butter,82,110,2,120'},\n",
       " '1015': {'cheese,434,112,4,113'},\n",
       " '1016': {'chillyflakes,146,50,1,60'},\n",
       " '1017': {'Sause,50,86,3,90'},\n",
       " '1018': {'Namkeen,46,49,3,60'},\n",
       " '1019': {'Jaggrey,67,50,4,60'},\n",
       " '1020': {'Tortila,61,40,4,50'},\n",
       " '1021': {'Cornflakes,62,290,4,300'},\n",
       " '1022': {'Jelly,83,50,4,55'},\n",
       " '1023': {'Conditioner,74,250,2,260'},\n",
       " '1024': {'ToiletPaper,53,122,2,125'},\n",
       " '1025': {'Scrub,24,140,2,150'},\n",
       " '1026': {'Bodywash,64,300,3,320'},\n",
       " '1027': {'Deodrant,14,180,1,200'},\n",
       " '1028': {'Perfume,37,200,1,220'},\n",
       " '1029': {'Cfl bulb,95,400,2,450'},\n",
       " '1030': {'Pickles,58,170,5,180'}}"
      ]
     },
     "execution_count": 18,
     "metadata": {},
     "output_type": "execute_result"
    }
   ],
   "source": [
    "ims"
   ]
  },
  {
   "cell_type": "code",
   "execution_count": 19,
   "metadata": {},
   "outputs": [
    {
     "data": {
      "text/plain": [
       "{'1001': {'Cake,69,300,4,320'},\n",
       " '1002': {'Bread,56,33,5,40'},\n",
       " '1003': {'milk,269,47,5,50'},\n",
       " '1004': {'toothpaste,34,49,3,60'},\n",
       " '1005': {'chips,90,20,2,30'},\n",
       " '1006': {'chocolate,64,45,2,50'},\n",
       " '1007': {'Sausage,73,230,5,240'},\n",
       " '1008': {'Biscuit,234,10,5,15'},\n",
       " '1009': {'Chocos,78,120,5,130'},\n",
       " '1010': {'Sugar,89,76,3,80'},\n",
       " '1011': {'soap,134,23,5,30'},\n",
       " '1012': {'detergent,123,90,5,100'},\n",
       " '1013': {'pizzabase,256,41,5,50'},\n",
       " '1014': {'butter,82,110,2,120'},\n",
       " '1015': {'cheese,434,112,4,113'},\n",
       " '1016': {'chillyflakes,146,50,1,60'},\n",
       " '1017': {'Sause,50,86,3,90'},\n",
       " '1018': {'Namkeen,46,49,3,60'},\n",
       " '1019': {'Jaggrey,67,50,4,60'},\n",
       " '1020': {'Tortila,61,40,4,50'},\n",
       " '1021': {'Cornflakes,62,290,4,300'},\n",
       " '1022': {'Jelly,83,50,4,55'},\n",
       " '1023': {'Conditioner,74,250,2,260'},\n",
       " '1024': {'ToiletPaper,53,122,2,125'},\n",
       " '1025': {'Scrub,24,140,2,150'},\n",
       " '1026': {'Bodywash,64,300,3,320'},\n",
       " '1027': {'Deodrant,14,180,1,200'},\n",
       " '1028': {'Perfume,37,200,1,220'},\n",
       " '1029': {'Cfl bulb,95,400,2,450'},\n",
       " '1030': {'Pickles,58,170,5,180'}}"
      ]
     },
     "execution_count": 19,
     "metadata": {},
     "output_type": "execute_result"
    }
   ],
   "source": [
    "new_ims\n"
   ]
  },
  {
   "cell_type": "code",
   "execution_count": 20,
   "metadata": {},
   "outputs": [
    {
     "data": {
      "text/plain": [
       "{'1001': {'Cake,69,300,4,320'},\n",
       " '1002': {'Bread,56,33,5,40'},\n",
       " '1003': {'milk,269,47,5,50'},\n",
       " '1004': {'toothpaste,34,49,3,60'},\n",
       " '1005': {'chips,90,20,2,30'},\n",
       " '1006': {'chocolate,64,45,2,50'},\n",
       " '1007': {'Sausage,73,230,5,240'},\n",
       " '1008': {'Biscuit,234,10,5,15'},\n",
       " '1009': {'Chocos,78,120,5,130'},\n",
       " '1010': {'Sugar,89,76,3,80'},\n",
       " '1011': {'soap,134,23,5,30'},\n",
       " '1012': {'detergent,123,90,5,100'},\n",
       " '1013': {'pizzabase,256,41,5,50'},\n",
       " '1014': {'butter,82,110,2,120'},\n",
       " '1015': {'cheese,434,112,4,113'},\n",
       " '1016': {'chillyflakes,146,50,1,60'},\n",
       " '1017': {'Sause,50,86,3,90'},\n",
       " '1018': {'Namkeen,46,49,3,60'},\n",
       " '1019': {'Jaggrey,67,50,4,60'},\n",
       " '1020': {'Tortila,61,40,4,50'},\n",
       " '1021': {'Cornflakes,62,290,4,300'},\n",
       " '1022': {'Jelly,83,50,4,55'},\n",
       " '1023': {'Conditioner,74,250,2,260'},\n",
       " '1024': {'ToiletPaper,53,122,2,125'},\n",
       " '1025': {'Scrub,24,140,2,150'},\n",
       " '1026': {'Bodywash,64,300,3,320'},\n",
       " '1027': {'Deodrant,14,180,1,200'},\n",
       " '1028': {'Perfume,37,200,1,220'},\n",
       " '1029': {'Cfl bulb,95,400,2,450'},\n",
       " '1030': {'Pickles,58,170,5,180'}}"
      ]
     },
     "execution_count": 20,
     "metadata": {},
     "output_type": "execute_result"
    }
   ],
   "source": [
    "new_ims\n"
   ]
  },
  {
   "cell_type": "code",
   "execution_count": 21,
   "metadata": {},
   "outputs": [],
   "source": [
    "fd=open('ims.rtf','w')\n",
    "for  i in new_ims:\n",
    "    fd.write(i)\n",
    "fd.close()\n"
   ]
  },
  {
   "cell_type": "code",
   "execution_count": 22,
   "metadata": {},
   "outputs": [
    {
     "name": "stdout",
     "output_type": "stream",
     "text": [
      "1001\n",
      "1002\n",
      "1003\n",
      "1004\n",
      "1005\n",
      "1006\n",
      "1007\n",
      "1008\n",
      "1009\n",
      "1010\n",
      "1011\n",
      "1012\n",
      "1013\n",
      "1014\n",
      "1015\n",
      "1016\n",
      "1017\n",
      "1018\n",
      "1019\n",
      "1020\n",
      "1021\n",
      "1022\n",
      "1023\n",
      "1024\n",
      "1025\n",
      "1026\n",
      "1027\n",
      "1028\n",
      "1029\n",
      "1030\n"
     ]
    }
   ],
   "source": [
    "for i in new_ims:\n",
    "    print (i)\n"
   ]
  },
  {
   "cell_type": "code",
   "execution_count": 23,
   "metadata": {},
   "outputs": [],
   "source": [
    "fd=open('ims.rtf','r')\n",
    "txt=fd.read()\n",
    "fd.close()"
   ]
  },
  {
   "cell_type": "code",
   "execution_count": 24,
   "metadata": {},
   "outputs": [
    {
     "data": {
      "text/plain": [
       "'100110021003100410051006100710081009101010111012101310141015101610171018101910201021102210231024102510261027102810291030'"
      ]
     },
     "execution_count": 24,
     "metadata": {},
     "output_type": "execute_result"
    }
   ],
   "source": [
    "txt"
   ]
  },
  {
   "cell_type": "code",
   "execution_count": null,
   "metadata": {},
   "outputs": [],
   "source": []
  },
  {
   "cell_type": "code",
   "execution_count": null,
   "metadata": {},
   "outputs": [],
   "source": []
  },
  {
   "cell_type": "code",
   "execution_count": null,
   "metadata": {},
   "outputs": [],
   "source": []
  }
 ],
 "metadata": {
  "kernelspec": {
   "display_name": "Python 3",
   "language": "python",
   "name": "python3"
  },
  "language_info": {
   "codemirror_mode": {
    "name": "ipython",
    "version": 3
   },
   "file_extension": ".py",
   "mimetype": "text/x-python",
   "name": "python",
   "nbconvert_exporter": "python",
   "pygments_lexer": "ipython3",
   "version": "3.9.0"
  }
 },
 "nbformat": 4,
 "nbformat_minor": 4
}

